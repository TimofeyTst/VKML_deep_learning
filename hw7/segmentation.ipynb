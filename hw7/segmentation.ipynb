{
 "cells": [
  {
   "cell_type": "markdown",
   "metadata": {},
   "source": [
    "Updated checkpoints: https://disk.yandex.ru/d/cK1PQ1-nn3PbKg\n",
    "\n",
    "# Домашнее задание\n",
    "\n",
    "1) В этой домашней работе вам предстоит решить задачу сегментации объект/фон на датасете PascalVoc2012. . Это такая же задача, как мы решали на семинаре, поэтому пользуйтесь наработками и рекомендациями\n",
    "2) необходимо дополнить список аугментаций (>= 2) : https://pytorch.org/vision/master/transforms.html , https://albumentations.ai\n",
    "3) Добавить понятные метрики на валидацию mean-IoU \n",
    "4) Добавить лосс Jaccard loss или DICE loss к BCE: https://arxiv.org/pdf/2006.14822.pdf\n",
    "5) Взять непредобученную модель(можно использовать UNET из семинара, взять другую, реализовать свою) \n",
    "6) Пообучать модель несколько эпох \n",
    "7) Показать результаты работы - графики mean-IoU, лосс и примеры работы\n"
   ]
  },
  {
   "cell_type": "code",
   "execution_count": 14,
   "metadata": {},
   "outputs": [],
   "source": [
    "data_path = \"data\"\n",
    "checkpoints_path = f\"{data_path}/models\"\n",
    "checkpoints_file = \"checkpoints.zip\""
   ]
  },
  {
   "cell_type": "markdown",
   "metadata": {},
   "source": [
    "# Prepare data"
   ]
  },
  {
   "cell_type": "code",
   "execution_count": null,
   "metadata": {},
   "outputs": [],
   "source": [
    "\"\"\"!wget https://data.deepai.org/PascalVOC2012.zip\n",
    "!unzip PascalVOC2012.zip\n",
    "!mv voc2012 VOCdevkit\n",
    "!pip install segmentation_models_pytorch\n",
    "!python -m pip install pytorch-lightning\n",
    "!git clone -b autumn_2023 https://github.com/AlekseySpasenov/dl-course.git\"\"\""
   ]
  },
  {
   "cell_type": "code",
   "execution_count": 15,
   "metadata": {},
   "outputs": [],
   "source": [
    "import os\n",
    "from zipfile import ZipFile\n",
    "if not os.path.exists(checkpoints_path):\n",
    "    raise FileNotFoundError(\"Скачайте архив с обученными моделями\")\n",
    "\n",
    "with ZipFile(f\"{checkpoints_path}/{checkpoints_file}\", \"r\") as zf:\n",
    "    zf.extractall(checkpoints_path)"
   ]
  }
 ],
 "metadata": {
  "kernelspec": {
   "display_name": "Python 3",
   "language": "python",
   "name": "python3"
  },
  "language_info": {
   "codemirror_mode": {
    "name": "ipython",
    "version": 3
   },
   "file_extension": ".py",
   "mimetype": "text/x-python",
   "name": "python",
   "nbconvert_exporter": "python",
   "pygments_lexer": "ipython3",
   "version": "3.10.12"
  }
 },
 "nbformat": 4,
 "nbformat_minor": 2
}
